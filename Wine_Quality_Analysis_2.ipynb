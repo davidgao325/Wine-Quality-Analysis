{
  "nbformat": 4,
  "nbformat_minor": 0,
  "metadata": {
    "kernelspec": {
      "display_name": "Python 3",
      "language": "python",
      "name": "python3"
    },
    "language_info": {
      "codemirror_mode": {
        "name": "ipython",
        "version": 3
      },
      "file_extension": ".py",
      "mimetype": "text/x-python",
      "name": "python",
      "nbconvert_exporter": "python",
      "pygments_lexer": "ipython3",
      "version": "3.7.6"
    },
    "colab": {
      "name": "Wine Quality Analysis-2.ipynb",
      "provenance": [],
      "collapsed_sections": []
    }
  },
  "cells": [
    {
      "cell_type": "code",
      "metadata": {
        "id": "02guPwZ8YlX2"
      },
      "source": [
        "\n",
        "import pandas as pd\n",
        "import numpy as np\n",
        "import matplotlib.pyplot as plt\n",
        "import seaborn as sns\n",
        "from sklearn.preprocessing import StandardScaler\n",
        "from sklearn.model_selection import train_test_split\n",
        "\n",
        "\n",
        "# Read the dataset and check the datatypes\n",
        "whitewine1 = pd.read_csv(\"winequality-white.csv\", sep = \";\")\n",
        "redwine1 = pd.read_csv(\"winequality-red.csv\", sep = \";\")"
      ],
      "execution_count": 44,
      "outputs": []
    },
    {
      "cell_type": "code",
      "metadata": {
        "colab": {
          "base_uri": "https://localhost:8080/"
        },
        "id": "I1Q1xLNNYlX4",
        "outputId": "5c45a9a2-98cc-4716-ec86-de3ba8e3f25e"
      },
      "source": [
        "whitewine1.dtypes"
      ],
      "execution_count": 2,
      "outputs": [
        {
          "output_type": "execute_result",
          "data": {
            "text/plain": [
              "fixed acidity           float64\n",
              "volatile acidity        float64\n",
              "citric acid             float64\n",
              "residual sugar          float64\n",
              "chlorides               float64\n",
              "free sulfur dioxide     float64\n",
              "total sulfur dioxide    float64\n",
              "density                 float64\n",
              "pH                      float64\n",
              "sulphates               float64\n",
              "alcohol                 float64\n",
              "quality                   int64\n",
              "dtype: object"
            ]
          },
          "metadata": {},
          "execution_count": 2
        }
      ]
    },
    {
      "cell_type": "code",
      "metadata": {
        "colab": {
          "base_uri": "https://localhost:8080/"
        },
        "id": "OSiEl2qHZKPp",
        "outputId": "bf702510-fc30-466e-95b8-ab1e89effb42"
      },
      "source": [
        "redwine1.dtypes"
      ],
      "execution_count": 3,
      "outputs": [
        {
          "output_type": "execute_result",
          "data": {
            "text/plain": [
              "fixed acidity           float64\n",
              "volatile acidity        float64\n",
              "citric acid             float64\n",
              "residual sugar          float64\n",
              "chlorides               float64\n",
              "free sulfur dioxide     float64\n",
              "total sulfur dioxide    float64\n",
              "density                 float64\n",
              "pH                      float64\n",
              "sulphates               float64\n",
              "alcohol                 float64\n",
              "quality                   int64\n",
              "dtype: object"
            ]
          },
          "metadata": {},
          "execution_count": 3
        }
      ]
    },
    {
      "cell_type": "code",
      "metadata": {
        "colab": {
          "base_uri": "https://localhost:8080/"
        },
        "id": "-by8BchAYlX6",
        "outputId": "29f4c13e-9c89-4767-f1b6-5b57438f7e4c"
      },
      "source": [
        " \n",
        "#Count the number of missing values\n",
        "whitewine1.isnull().sum()"
      ],
      "execution_count": 4,
      "outputs": [
        {
          "output_type": "execute_result",
          "data": {
            "text/plain": [
              "fixed acidity           0\n",
              "volatile acidity        0\n",
              "citric acid             0\n",
              "residual sugar          0\n",
              "chlorides               0\n",
              "free sulfur dioxide     0\n",
              "total sulfur dioxide    0\n",
              "density                 0\n",
              "pH                      0\n",
              "sulphates               0\n",
              "alcohol                 0\n",
              "quality                 0\n",
              "dtype: int64"
            ]
          },
          "metadata": {},
          "execution_count": 4
        }
      ]
    },
    {
      "cell_type": "code",
      "metadata": {
        "colab": {
          "base_uri": "https://localhost:8080/"
        },
        "id": "xweMyMnYZV1C",
        "outputId": "de5da7f5-e8d9-414b-f830-130bb0d4f6f2"
      },
      "source": [
        "redwine1.isnull().sum()"
      ],
      "execution_count": 5,
      "outputs": [
        {
          "output_type": "execute_result",
          "data": {
            "text/plain": [
              "fixed acidity           0\n",
              "volatile acidity        0\n",
              "citric acid             0\n",
              "residual sugar          0\n",
              "chlorides               0\n",
              "free sulfur dioxide     0\n",
              "total sulfur dioxide    0\n",
              "density                 0\n",
              "pH                      0\n",
              "sulphates               0\n",
              "alcohol                 0\n",
              "quality                 0\n",
              "dtype: int64"
            ]
          },
          "metadata": {},
          "execution_count": 5
        }
      ]
    },
    {
      "cell_type": "code",
      "metadata": {
        "id": "2ZcK3CePYlX7"
      },
      "source": [
        "#There are no missing values"
      ],
      "execution_count": null,
      "outputs": []
    },
    {
      "cell_type": "code",
      "metadata": {
        "colab": {
          "base_uri": "https://localhost:8080/",
          "height": 472
        },
        "id": "15OsRbjhYlX7",
        "outputId": "9bf40a0a-cc96-4e53-cffc-23101d0b7f60"
      },
      "source": [
        "# Show the correlation between qualities other than wine\n",
        "correlation_data1 = whitewine1.loc[:, \"fixed acidity\":\"alcohol\"]\n",
        "correlation_data1\n",
        "correlation1 = correlation_data1.corr()\n",
        "correlation1"
      ],
      "execution_count": 7,
      "outputs": [
        {
          "output_type": "execute_result",
          "data": {
            "text/html": [
              "<div>\n",
              "<style scoped>\n",
              "    .dataframe tbody tr th:only-of-type {\n",
              "        vertical-align: middle;\n",
              "    }\n",
              "\n",
              "    .dataframe tbody tr th {\n",
              "        vertical-align: top;\n",
              "    }\n",
              "\n",
              "    .dataframe thead th {\n",
              "        text-align: right;\n",
              "    }\n",
              "</style>\n",
              "<table border=\"1\" class=\"dataframe\">\n",
              "  <thead>\n",
              "    <tr style=\"text-align: right;\">\n",
              "      <th></th>\n",
              "      <th>fixed acidity</th>\n",
              "      <th>volatile acidity</th>\n",
              "      <th>citric acid</th>\n",
              "      <th>residual sugar</th>\n",
              "      <th>chlorides</th>\n",
              "      <th>free sulfur dioxide</th>\n",
              "      <th>total sulfur dioxide</th>\n",
              "      <th>density</th>\n",
              "      <th>pH</th>\n",
              "      <th>sulphates</th>\n",
              "      <th>alcohol</th>\n",
              "    </tr>\n",
              "  </thead>\n",
              "  <tbody>\n",
              "    <tr>\n",
              "      <th>fixed acidity</th>\n",
              "      <td>1.000000</td>\n",
              "      <td>-0.022697</td>\n",
              "      <td>0.289181</td>\n",
              "      <td>0.089021</td>\n",
              "      <td>0.023086</td>\n",
              "      <td>-0.049396</td>\n",
              "      <td>0.091070</td>\n",
              "      <td>0.265331</td>\n",
              "      <td>-0.425858</td>\n",
              "      <td>-0.017143</td>\n",
              "      <td>-0.120881</td>\n",
              "    </tr>\n",
              "    <tr>\n",
              "      <th>volatile acidity</th>\n",
              "      <td>-0.022697</td>\n",
              "      <td>1.000000</td>\n",
              "      <td>-0.149472</td>\n",
              "      <td>0.064286</td>\n",
              "      <td>0.070512</td>\n",
              "      <td>-0.097012</td>\n",
              "      <td>0.089261</td>\n",
              "      <td>0.027114</td>\n",
              "      <td>-0.031915</td>\n",
              "      <td>-0.035728</td>\n",
              "      <td>0.067718</td>\n",
              "    </tr>\n",
              "    <tr>\n",
              "      <th>citric acid</th>\n",
              "      <td>0.289181</td>\n",
              "      <td>-0.149472</td>\n",
              "      <td>1.000000</td>\n",
              "      <td>0.094212</td>\n",
              "      <td>0.114364</td>\n",
              "      <td>0.094077</td>\n",
              "      <td>0.121131</td>\n",
              "      <td>0.149503</td>\n",
              "      <td>-0.163748</td>\n",
              "      <td>0.062331</td>\n",
              "      <td>-0.075729</td>\n",
              "    </tr>\n",
              "    <tr>\n",
              "      <th>residual sugar</th>\n",
              "      <td>0.089021</td>\n",
              "      <td>0.064286</td>\n",
              "      <td>0.094212</td>\n",
              "      <td>1.000000</td>\n",
              "      <td>0.088685</td>\n",
              "      <td>0.299098</td>\n",
              "      <td>0.401439</td>\n",
              "      <td>0.838966</td>\n",
              "      <td>-0.194133</td>\n",
              "      <td>-0.026664</td>\n",
              "      <td>-0.450631</td>\n",
              "    </tr>\n",
              "    <tr>\n",
              "      <th>chlorides</th>\n",
              "      <td>0.023086</td>\n",
              "      <td>0.070512</td>\n",
              "      <td>0.114364</td>\n",
              "      <td>0.088685</td>\n",
              "      <td>1.000000</td>\n",
              "      <td>0.101392</td>\n",
              "      <td>0.198910</td>\n",
              "      <td>0.257211</td>\n",
              "      <td>-0.090439</td>\n",
              "      <td>0.016763</td>\n",
              "      <td>-0.360189</td>\n",
              "    </tr>\n",
              "    <tr>\n",
              "      <th>free sulfur dioxide</th>\n",
              "      <td>-0.049396</td>\n",
              "      <td>-0.097012</td>\n",
              "      <td>0.094077</td>\n",
              "      <td>0.299098</td>\n",
              "      <td>0.101392</td>\n",
              "      <td>1.000000</td>\n",
              "      <td>0.615501</td>\n",
              "      <td>0.294210</td>\n",
              "      <td>-0.000618</td>\n",
              "      <td>0.059217</td>\n",
              "      <td>-0.250104</td>\n",
              "    </tr>\n",
              "    <tr>\n",
              "      <th>total sulfur dioxide</th>\n",
              "      <td>0.091070</td>\n",
              "      <td>0.089261</td>\n",
              "      <td>0.121131</td>\n",
              "      <td>0.401439</td>\n",
              "      <td>0.198910</td>\n",
              "      <td>0.615501</td>\n",
              "      <td>1.000000</td>\n",
              "      <td>0.529881</td>\n",
              "      <td>0.002321</td>\n",
              "      <td>0.134562</td>\n",
              "      <td>-0.448892</td>\n",
              "    </tr>\n",
              "    <tr>\n",
              "      <th>density</th>\n",
              "      <td>0.265331</td>\n",
              "      <td>0.027114</td>\n",
              "      <td>0.149503</td>\n",
              "      <td>0.838966</td>\n",
              "      <td>0.257211</td>\n",
              "      <td>0.294210</td>\n",
              "      <td>0.529881</td>\n",
              "      <td>1.000000</td>\n",
              "      <td>-0.093591</td>\n",
              "      <td>0.074493</td>\n",
              "      <td>-0.780138</td>\n",
              "    </tr>\n",
              "    <tr>\n",
              "      <th>pH</th>\n",
              "      <td>-0.425858</td>\n",
              "      <td>-0.031915</td>\n",
              "      <td>-0.163748</td>\n",
              "      <td>-0.194133</td>\n",
              "      <td>-0.090439</td>\n",
              "      <td>-0.000618</td>\n",
              "      <td>0.002321</td>\n",
              "      <td>-0.093591</td>\n",
              "      <td>1.000000</td>\n",
              "      <td>0.155951</td>\n",
              "      <td>0.121432</td>\n",
              "    </tr>\n",
              "    <tr>\n",
              "      <th>sulphates</th>\n",
              "      <td>-0.017143</td>\n",
              "      <td>-0.035728</td>\n",
              "      <td>0.062331</td>\n",
              "      <td>-0.026664</td>\n",
              "      <td>0.016763</td>\n",
              "      <td>0.059217</td>\n",
              "      <td>0.134562</td>\n",
              "      <td>0.074493</td>\n",
              "      <td>0.155951</td>\n",
              "      <td>1.000000</td>\n",
              "      <td>-0.017433</td>\n",
              "    </tr>\n",
              "    <tr>\n",
              "      <th>alcohol</th>\n",
              "      <td>-0.120881</td>\n",
              "      <td>0.067718</td>\n",
              "      <td>-0.075729</td>\n",
              "      <td>-0.450631</td>\n",
              "      <td>-0.360189</td>\n",
              "      <td>-0.250104</td>\n",
              "      <td>-0.448892</td>\n",
              "      <td>-0.780138</td>\n",
              "      <td>0.121432</td>\n",
              "      <td>-0.017433</td>\n",
              "      <td>1.000000</td>\n",
              "    </tr>\n",
              "  </tbody>\n",
              "</table>\n",
              "</div>"
            ],
            "text/plain": [
              "                      fixed acidity  volatile acidity  ...  sulphates   alcohol\n",
              "fixed acidity              1.000000         -0.022697  ...  -0.017143 -0.120881\n",
              "volatile acidity          -0.022697          1.000000  ...  -0.035728  0.067718\n",
              "citric acid                0.289181         -0.149472  ...   0.062331 -0.075729\n",
              "residual sugar             0.089021          0.064286  ...  -0.026664 -0.450631\n",
              "chlorides                  0.023086          0.070512  ...   0.016763 -0.360189\n",
              "free sulfur dioxide       -0.049396         -0.097012  ...   0.059217 -0.250104\n",
              "total sulfur dioxide       0.091070          0.089261  ...   0.134562 -0.448892\n",
              "density                    0.265331          0.027114  ...   0.074493 -0.780138\n",
              "pH                        -0.425858         -0.031915  ...   0.155951  0.121432\n",
              "sulphates                 -0.017143         -0.035728  ...   1.000000 -0.017433\n",
              "alcohol                   -0.120881          0.067718  ...  -0.017433  1.000000\n",
              "\n",
              "[11 rows x 11 columns]"
            ]
          },
          "metadata": {},
          "execution_count": 7
        }
      ]
    },
    {
      "cell_type": "code",
      "metadata": {
        "colab": {
          "base_uri": "https://localhost:8080/",
          "height": 472
        },
        "id": "N-alzvkXZn2C",
        "outputId": "dfbb0c9b-103a-473d-c1dd-8862f66b4ae0"
      },
      "source": [
        "correlation_data2 = redwine1.loc[:, \"fixed acidity\":\"alcohol\"]\n",
        "correlation_data2\n",
        "correlation2 = correlation_data2.corr()\n",
        "correlation2"
      ],
      "execution_count": 8,
      "outputs": [
        {
          "output_type": "execute_result",
          "data": {
            "text/html": [
              "<div>\n",
              "<style scoped>\n",
              "    .dataframe tbody tr th:only-of-type {\n",
              "        vertical-align: middle;\n",
              "    }\n",
              "\n",
              "    .dataframe tbody tr th {\n",
              "        vertical-align: top;\n",
              "    }\n",
              "\n",
              "    .dataframe thead th {\n",
              "        text-align: right;\n",
              "    }\n",
              "</style>\n",
              "<table border=\"1\" class=\"dataframe\">\n",
              "  <thead>\n",
              "    <tr style=\"text-align: right;\">\n",
              "      <th></th>\n",
              "      <th>fixed acidity</th>\n",
              "      <th>volatile acidity</th>\n",
              "      <th>citric acid</th>\n",
              "      <th>residual sugar</th>\n",
              "      <th>chlorides</th>\n",
              "      <th>free sulfur dioxide</th>\n",
              "      <th>total sulfur dioxide</th>\n",
              "      <th>density</th>\n",
              "      <th>pH</th>\n",
              "      <th>sulphates</th>\n",
              "      <th>alcohol</th>\n",
              "    </tr>\n",
              "  </thead>\n",
              "  <tbody>\n",
              "    <tr>\n",
              "      <th>fixed acidity</th>\n",
              "      <td>1.000000</td>\n",
              "      <td>-0.256131</td>\n",
              "      <td>0.671703</td>\n",
              "      <td>0.114777</td>\n",
              "      <td>0.093705</td>\n",
              "      <td>-0.153794</td>\n",
              "      <td>-0.113181</td>\n",
              "      <td>0.668047</td>\n",
              "      <td>-0.682978</td>\n",
              "      <td>0.183006</td>\n",
              "      <td>-0.061668</td>\n",
              "    </tr>\n",
              "    <tr>\n",
              "      <th>volatile acidity</th>\n",
              "      <td>-0.256131</td>\n",
              "      <td>1.000000</td>\n",
              "      <td>-0.552496</td>\n",
              "      <td>0.001918</td>\n",
              "      <td>0.061298</td>\n",
              "      <td>-0.010504</td>\n",
              "      <td>0.076470</td>\n",
              "      <td>0.022026</td>\n",
              "      <td>0.234937</td>\n",
              "      <td>-0.260987</td>\n",
              "      <td>-0.202288</td>\n",
              "    </tr>\n",
              "    <tr>\n",
              "      <th>citric acid</th>\n",
              "      <td>0.671703</td>\n",
              "      <td>-0.552496</td>\n",
              "      <td>1.000000</td>\n",
              "      <td>0.143577</td>\n",
              "      <td>0.203823</td>\n",
              "      <td>-0.060978</td>\n",
              "      <td>0.035533</td>\n",
              "      <td>0.364947</td>\n",
              "      <td>-0.541904</td>\n",
              "      <td>0.312770</td>\n",
              "      <td>0.109903</td>\n",
              "    </tr>\n",
              "    <tr>\n",
              "      <th>residual sugar</th>\n",
              "      <td>0.114777</td>\n",
              "      <td>0.001918</td>\n",
              "      <td>0.143577</td>\n",
              "      <td>1.000000</td>\n",
              "      <td>0.055610</td>\n",
              "      <td>0.187049</td>\n",
              "      <td>0.203028</td>\n",
              "      <td>0.355283</td>\n",
              "      <td>-0.085652</td>\n",
              "      <td>0.005527</td>\n",
              "      <td>0.042075</td>\n",
              "    </tr>\n",
              "    <tr>\n",
              "      <th>chlorides</th>\n",
              "      <td>0.093705</td>\n",
              "      <td>0.061298</td>\n",
              "      <td>0.203823</td>\n",
              "      <td>0.055610</td>\n",
              "      <td>1.000000</td>\n",
              "      <td>0.005562</td>\n",
              "      <td>0.047400</td>\n",
              "      <td>0.200632</td>\n",
              "      <td>-0.265026</td>\n",
              "      <td>0.371260</td>\n",
              "      <td>-0.221141</td>\n",
              "    </tr>\n",
              "    <tr>\n",
              "      <th>free sulfur dioxide</th>\n",
              "      <td>-0.153794</td>\n",
              "      <td>-0.010504</td>\n",
              "      <td>-0.060978</td>\n",
              "      <td>0.187049</td>\n",
              "      <td>0.005562</td>\n",
              "      <td>1.000000</td>\n",
              "      <td>0.667666</td>\n",
              "      <td>-0.021946</td>\n",
              "      <td>0.070377</td>\n",
              "      <td>0.051658</td>\n",
              "      <td>-0.069408</td>\n",
              "    </tr>\n",
              "    <tr>\n",
              "      <th>total sulfur dioxide</th>\n",
              "      <td>-0.113181</td>\n",
              "      <td>0.076470</td>\n",
              "      <td>0.035533</td>\n",
              "      <td>0.203028</td>\n",
              "      <td>0.047400</td>\n",
              "      <td>0.667666</td>\n",
              "      <td>1.000000</td>\n",
              "      <td>0.071269</td>\n",
              "      <td>-0.066495</td>\n",
              "      <td>0.042947</td>\n",
              "      <td>-0.205654</td>\n",
              "    </tr>\n",
              "    <tr>\n",
              "      <th>density</th>\n",
              "      <td>0.668047</td>\n",
              "      <td>0.022026</td>\n",
              "      <td>0.364947</td>\n",
              "      <td>0.355283</td>\n",
              "      <td>0.200632</td>\n",
              "      <td>-0.021946</td>\n",
              "      <td>0.071269</td>\n",
              "      <td>1.000000</td>\n",
              "      <td>-0.341699</td>\n",
              "      <td>0.148506</td>\n",
              "      <td>-0.496180</td>\n",
              "    </tr>\n",
              "    <tr>\n",
              "      <th>pH</th>\n",
              "      <td>-0.682978</td>\n",
              "      <td>0.234937</td>\n",
              "      <td>-0.541904</td>\n",
              "      <td>-0.085652</td>\n",
              "      <td>-0.265026</td>\n",
              "      <td>0.070377</td>\n",
              "      <td>-0.066495</td>\n",
              "      <td>-0.341699</td>\n",
              "      <td>1.000000</td>\n",
              "      <td>-0.196648</td>\n",
              "      <td>0.205633</td>\n",
              "    </tr>\n",
              "    <tr>\n",
              "      <th>sulphates</th>\n",
              "      <td>0.183006</td>\n",
              "      <td>-0.260987</td>\n",
              "      <td>0.312770</td>\n",
              "      <td>0.005527</td>\n",
              "      <td>0.371260</td>\n",
              "      <td>0.051658</td>\n",
              "      <td>0.042947</td>\n",
              "      <td>0.148506</td>\n",
              "      <td>-0.196648</td>\n",
              "      <td>1.000000</td>\n",
              "      <td>0.093595</td>\n",
              "    </tr>\n",
              "    <tr>\n",
              "      <th>alcohol</th>\n",
              "      <td>-0.061668</td>\n",
              "      <td>-0.202288</td>\n",
              "      <td>0.109903</td>\n",
              "      <td>0.042075</td>\n",
              "      <td>-0.221141</td>\n",
              "      <td>-0.069408</td>\n",
              "      <td>-0.205654</td>\n",
              "      <td>-0.496180</td>\n",
              "      <td>0.205633</td>\n",
              "      <td>0.093595</td>\n",
              "      <td>1.000000</td>\n",
              "    </tr>\n",
              "  </tbody>\n",
              "</table>\n",
              "</div>"
            ],
            "text/plain": [
              "                      fixed acidity  volatile acidity  ...  sulphates   alcohol\n",
              "fixed acidity              1.000000         -0.256131  ...   0.183006 -0.061668\n",
              "volatile acidity          -0.256131          1.000000  ...  -0.260987 -0.202288\n",
              "citric acid                0.671703         -0.552496  ...   0.312770  0.109903\n",
              "residual sugar             0.114777          0.001918  ...   0.005527  0.042075\n",
              "chlorides                  0.093705          0.061298  ...   0.371260 -0.221141\n",
              "free sulfur dioxide       -0.153794         -0.010504  ...   0.051658 -0.069408\n",
              "total sulfur dioxide      -0.113181          0.076470  ...   0.042947 -0.205654\n",
              "density                    0.668047          0.022026  ...   0.148506 -0.496180\n",
              "pH                        -0.682978          0.234937  ...  -0.196648  0.205633\n",
              "sulphates                  0.183006         -0.260987  ...   1.000000  0.093595\n",
              "alcohol                   -0.061668         -0.202288  ...   0.093595  1.000000\n",
              "\n",
              "[11 rows x 11 columns]"
            ]
          },
          "metadata": {},
          "execution_count": 8
        }
      ]
    },
    {
      "cell_type": "code",
      "metadata": {
        "colab": {
          "base_uri": "https://localhost:8080/",
          "height": 353
        },
        "id": "BfjAo9pwYlX8",
        "outputId": "6a46f890-73f1-4030-87d7-ad0af778e335"
      },
      "source": [
        "\n",
        "corr_plot1 = sns.heatmap(correlation_data1.corr())"
      ],
      "execution_count": 10,
      "outputs": [
        {
          "output_type": "display_data",
          "data": {
            "image/png": "[encoded data removed]",
            "text/plain": [
              "<Figure size 432x288 with 2 Axes>"
            ]
          },
          "metadata": {
            "needs_background": "light"
          }
        }
      ]
    },
    {
      "cell_type": "code",
      "metadata": {
        "colab": {
          "base_uri": "https://localhost:8080/",
          "height": 353
        },
        "id": "FZGvEGvPZ6Cu",
        "outputId": "f9c1a287-0d81-4774-d996-2230fa0f85f3"
      },
      "source": [
        "corr_plot2 = sns.heatmap(correlation_data2.corr())"
      ],
      "execution_count": 11,
      "outputs": [
        {
          "output_type": "display_data",
          "data": {
            "image/png": "[encoded data removed]",
            "text/plain": [
              "<Figure size 432x288 with 2 Axes>"
            ]
          },
          "metadata": {
            "needs_background": "light"
          }
        }
      ]
    },
    {
      "cell_type": "code",
      "metadata": {
        "colab": {
          "base_uri": "https://localhost:8080/",
          "height": 312
        },
        "id": "uFtwywl7YlX8",
        "outputId": "6978e5af-5f0b-42f5-9d13-35c9ac548314"
      },
      "source": [
        "# PLot a histogram of the quality column in the wine dataframe\n",
        "plt.hist(whitewine1['quality'])\n",
        "plt.xlabel(\"Quality\")\n",
        "plt.ylabel(\"Frequency\")\n",
        "plt.title(\"Histogram of White Wine Quality\")"
      ],
      "execution_count": 14,
      "outputs": [
        {
          "output_type": "execute_result",
          "data": {
            "text/plain": [
              "Text(0.5, 1.0, 'Histogram of White Wine Quality')"
            ]
          },
          "metadata": {},
          "execution_count": 14
        },
        {
          "output_type": "display_data",
          "data": {
            "image/png": "[encoded data removed]",
            "text/plain": [
              "<Figure size 432x288 with 1 Axes>"
            ]
          },
          "metadata": {
            "needs_background": "light"
          }
        }
      ]
    },
    {
      "cell_type": "code",
      "metadata": {
        "colab": {
          "base_uri": "https://localhost:8080/",
          "height": 312
        },
        "id": "LMV245sbaMcn",
        "outputId": "c1bba42e-ccd4-41f1-ef41-602c6bc76da8"
      },
      "source": [
        "plt.hist(redwine1['quality'])\n",
        "plt.xlabel(\"Quality\")\n",
        "plt.ylabel(\"Frequency\")\n",
        "plt.title(\"Histogram of Red Wine Quality\")"
      ],
      "execution_count": 15,
      "outputs": [
        {
          "output_type": "execute_result",
          "data": {
            "text/plain": [
              "Text(0.5, 1.0, 'Histogram of Red Wine Quality')"
            ]
          },
          "metadata": {},
          "execution_count": 15
        },
        {
          "output_type": "display_data",
          "data": {
            "image/png": "[encoded data removed]",
            "text/plain": [
              "<Figure size 432x288 with 1 Axes>"
            ]
          },
          "metadata": {
            "needs_background": "light"
          }
        }
      ]
    },
    {
      "cell_type": "code",
      "metadata": {
        "id": "GajElqBUYlX9"
      },
      "source": [
        "\n",
        "# Classify the quality column as low,med,high\n",
        "whitewine1_quality = whitewine1.copy()\n",
        "whitewine1_quality['quality'].replace([3,4],['low','low'],inplace=True)\n",
        "whitewine1_quality['quality'].replace([5,6],['med','med'],inplace=True)\n",
        "whitewine1_quality['quality'].replace([7,8,9],['high','high','high'],inplace=True)"
      ],
      "execution_count": 16,
      "outputs": []
    },
    {
      "cell_type": "code",
      "metadata": {
        "id": "gVh7e_NFa2kZ"
      },
      "source": [
        "redwine1_quality = redwine1.copy()\n",
        "redwine1_quality['quality'].replace([3,4],['low','low'],inplace=True)\n",
        "redwine1_quality['quality'].replace([5,6],['med','med'],inplace=True)\n",
        "redwine1_quality['quality'].replace([7,8,9],['high','high','high'],inplace=True)"
      ],
      "execution_count": 45,
      "outputs": []
    },
    {
      "cell_type": "code",
      "metadata": {
        "id": "QSXskSq1YlX-"
      },
      "source": [
        "\n",
        "#Normalize the dataset\n",
        "def normalize(x):\n",
        "    return ((x-min(x))/(max(x)-min(x)))\n",
        "\n",
        "X = list(set(list(whitewine1_quality)) - set(['quality']))\n",
        "whitewine2 = whitewine1_quality.iloc[:,].copy()\n",
        "whitewine2[X] = whitewine2[X].apply(normalize)\n",
        "\n",
        "Y = list(set(list(redwine1_quality)) - set(['quality']))\n",
        "redwine2 = redwine1_quality.iloc[:,].copy()\n",
        "redwine2[Y] = redwine2[Y].apply(normalize)"
      ],
      "execution_count": 46,
      "outputs": []
    },
    {
      "cell_type": "code",
      "metadata": {
        "id": "9BkHRhTrYlX_"
      },
      "source": [
        "\n",
        "whitewine2_train, whitewine2_test, y_train1, y_test1 = train_test_split(whitewine2[X], whitewine2['quality'], test_size = 0.35, random_state = 42)"
      ],
      "execution_count": 19,
      "outputs": []
    },
    {
      "cell_type": "code",
      "metadata": {
        "id": "YB4IDo73cZuI"
      },
      "source": [
        "redwine2_train, redwine2_test, y_train2, y_test2 = train_test_split(redwine2[Y], redwine2['quality'], test_size = 0.35, random_state = 42)"
      ],
      "execution_count": 20,
      "outputs": []
    },
    {
      "cell_type": "code",
      "metadata": {
        "colab": {
          "base_uri": "https://localhost:8080/"
        },
        "id": "4g58p0HiYlX_",
        "outputId": "ea3331eb-5cf3-412c-c790-3a9c0a38da93"
      },
      "source": [
        "\n",
        "from sklearn.neighbors import KNeighborsClassifier  \n",
        "classifier1 = KNeighborsClassifier(n_neighbors=5) \n",
        "classifier1.fit(whitewine2_train[X], y_train1)\n"
      ],
      "execution_count": 23,
      "outputs": [
        {
          "output_type": "execute_result",
          "data": {
            "text/plain": [
              "KNeighborsClassifier(algorithm='auto', leaf_size=30, metric='minkowski',\n",
              "                     metric_params=None, n_jobs=None, n_neighbors=5, p=2,\n",
              "                     weights='uniform')"
            ]
          },
          "metadata": {},
          "execution_count": 23
        }
      ]
    },
    {
      "cell_type": "code",
      "metadata": {
        "colab": {
          "base_uri": "https://localhost:8080/"
        },
        "id": "PWejsyq0dDSG",
        "outputId": "11526412-cc2a-479d-f3ba-221f8d028fe2"
      },
      "source": [
        "classifier2 = KNeighborsClassifier(n_neighbors=5)\n",
        "classifier2.fit(redwine2_train[Y], y_train2)"
      ],
      "execution_count": 24,
      "outputs": [
        {
          "output_type": "execute_result",
          "data": {
            "text/plain": [
              "KNeighborsClassifier(algorithm='auto', leaf_size=30, metric='minkowski',\n",
              "                     metric_params=None, n_jobs=None, n_neighbors=5, p=2,\n",
              "                     weights='uniform')"
            ]
          },
          "metadata": {},
          "execution_count": 24
        }
      ]
    },
    {
      "cell_type": "code",
      "metadata": {
        "colab": {
          "base_uri": "https://localhost:8080/"
        },
        "id": "ZtHLV_bzYlYA",
        "outputId": "8a815df0-c78f-4ed8-bd97-1a098af0baec"
      },
      "source": [
        "y_pred1 = classifier1.predict(whitewine2_test) \n",
        "y_pred1"
      ],
      "execution_count": 27,
      "outputs": [
        {
          "output_type": "execute_result",
          "data": {
            "text/plain": [
              "array(['med', 'high', 'high', ..., 'med', 'high', 'med'], dtype=object)"
            ]
          },
          "metadata": {},
          "execution_count": 27
        }
      ]
    },
    {
      "cell_type": "code",
      "metadata": {
        "colab": {
          "base_uri": "https://localhost:8080/"
        },
        "id": "jmu6sAQddRk8",
        "outputId": "16fcd1b2-8567-4b57-f2ed-bc1a6cd14db3"
      },
      "source": [
        "y_pred2 = classifier2.predict(redwine2_test) \n",
        "y_pred2"
      ],
      "execution_count": 47,
      "outputs": [
        {
          "output_type": "execute_result",
          "data": {
            "text/plain": [
              "array(['med', 'med', 'med', 'med', 'med', 'med', 'med', 'med', 'med',\n",
              "       'med', 'med', 'med', 'med', 'med', 'med', 'high', 'med', 'med',\n",
              "       'med', 'med', 'med', 'med', 'med', 'high', 'med', 'med', 'med',\n",
              "       'med', 'med', 'med', 'med', 'med', 'med', 'med', 'med', 'med',\n",
              "       'med', 'med', 'med', 'med', 'med', 'med', 'med', 'med', 'med',\n",
              "       'med', 'med', 'med', 'med', 'med', 'med', 'med', 'med', 'high',\n",
              "       'med', 'med', 'med', 'med', 'med', 'med', 'med', 'med', 'med',\n",
              "       'med', 'high', 'med', 'med', 'med', 'high', 'med', 'high', 'med',\n",
              "       'med', 'med', 'med', 'med', 'high', 'med', 'med', 'high', 'med',\n",
              "       'high', 'med', 'med', 'med', 'med', 'med', 'med', 'high', 'med',\n",
              "       'med', 'med', 'med', 'med', 'med', 'med', 'med', 'med', 'med',\n",
              "       'med', 'med', 'med', 'med', 'med', 'med', 'med', 'med', 'med',\n",
              "       'med', 'med', 'high', 'med', 'med', 'med', 'med', 'med', 'med',\n",
              "       'med', 'med', 'med', 'med', 'med', 'med', 'med', 'med', 'med',\n",
              "       'med', 'med', 'med', 'med', 'med', 'med', 'med', 'med', 'med',\n",
              "       'med', 'med', 'med', 'med', 'med', 'med', 'med', 'high', 'med',\n",
              "       'med', 'med', 'med', 'med', 'med', 'med', 'med', 'med', 'med',\n",
              "       'med', 'med', 'med', 'med', 'med', 'med', 'med', 'high', 'med',\n",
              "       'med', 'med', 'med', 'med', 'med', 'med', 'med', 'med', 'med',\n",
              "       'med', 'high', 'med', 'med', 'med', 'med', 'med', 'med', 'med',\n",
              "       'med', 'med', 'med', 'high', 'med', 'med', 'med', 'med', 'high',\n",
              "       'med', 'med', 'med', 'med', 'high', 'med', 'med', 'med', 'med',\n",
              "       'med', 'med', 'med', 'med', 'med', 'med', 'high', 'med', 'med',\n",
              "       'med', 'med', 'med', 'high', 'med', 'med', 'med', 'high', 'high',\n",
              "       'med', 'med', 'med', 'med', 'med', 'med', 'high', 'med', 'med',\n",
              "       'med', 'med', 'high', 'med', 'med', 'med', 'med', 'high', 'med',\n",
              "       'med', 'med', 'med', 'med', 'med', 'med', 'med', 'med', 'med',\n",
              "       'med', 'med', 'med', 'med', 'med', 'med', 'med', 'med', 'med',\n",
              "       'med', 'med', 'med', 'med', 'med', 'med', 'med', 'high', 'high',\n",
              "       'med', 'med', 'high', 'med', 'high', 'med', 'med', 'med', 'high',\n",
              "       'med', 'med', 'med', 'med', 'med', 'med', 'med', 'high', 'med',\n",
              "       'med', 'high', 'med', 'med', 'med', 'med', 'med', 'med', 'med',\n",
              "       'med', 'med', 'med', 'high', 'med', 'med', 'med', 'med', 'med',\n",
              "       'high', 'med', 'high', 'med', 'med', 'med', 'med', 'med', 'med',\n",
              "       'med', 'med', 'med', 'high', 'med', 'med', 'med', 'med', 'med',\n",
              "       'med', 'med', 'med', 'med', 'med', 'high', 'med', 'med', 'med',\n",
              "       'med', 'med', 'med', 'med', 'med', 'med', 'med', 'high', 'med',\n",
              "       'med', 'med', 'med', 'med', 'med', 'med', 'med', 'med', 'high',\n",
              "       'med', 'med', 'med', 'med', 'med', 'med', 'med', 'med', 'med',\n",
              "       'med', 'med', 'med', 'med', 'med', 'med', 'med', 'med', 'med',\n",
              "       'med', 'med', 'med', 'med', 'med', 'med', 'med', 'med', 'med',\n",
              "       'med', 'med', 'med', 'med', 'med', 'med', 'med', 'med', 'med',\n",
              "       'med', 'med', 'med', 'high', 'high', 'med', 'med', 'med', 'high',\n",
              "       'med', 'med', 'med', 'med', 'med', 'med', 'med', 'med', 'med',\n",
              "       'med', 'med', 'med', 'high', 'med', 'med', 'med', 'med', 'med',\n",
              "       'med', 'high', 'high', 'med', 'med', 'med', 'med', 'med', 'med',\n",
              "       'med', 'high', 'med', 'high', 'med', 'high', 'high', 'med', 'med',\n",
              "       'med', 'med', 'med', 'med', 'med', 'med', 'med', 'high', 'med',\n",
              "       'med', 'med', 'high', 'med', 'med', 'med', 'med', 'med', 'med',\n",
              "       'med', 'med', 'med', 'med', 'med', 'med', 'med', 'med', 'med',\n",
              "       'med', 'high', 'med', 'med', 'med', 'med', 'high', 'med', 'med',\n",
              "       'med', 'med', 'med', 'med', 'med', 'med', 'med', 'med', 'med',\n",
              "       'med', 'high', 'high', 'med', 'med', 'med', 'med', 'med', 'med',\n",
              "       'med', 'med', 'med', 'med', 'med', 'med', 'med', 'med', 'med',\n",
              "       'med', 'med', 'med', 'med', 'high', 'med', 'med', 'med', 'med',\n",
              "       'med', 'med', 'med', 'med', 'med', 'med', 'med', 'med', 'med',\n",
              "       'med', 'med', 'med', 'med', 'med', 'med', 'med', 'med', 'med',\n",
              "       'med', 'med', 'high', 'med', 'med', 'med', 'med', 'med', 'med',\n",
              "       'med', 'med', 'high', 'high', 'med', 'med', 'med', 'med', 'med',\n",
              "       'med', 'med', 'med', 'med', 'med', 'med', 'med', 'med', 'high',\n",
              "       'med', 'med', 'med', 'med', 'med', 'med', 'med', 'med', 'med',\n",
              "       'med', 'med', 'med', 'med', 'med', 'med', 'med', 'med', 'med',\n",
              "       'med', 'high'], dtype=object)"
            ]
          },
          "metadata": {},
          "execution_count": 47
        }
      ]
    },
    {
      "cell_type": "code",
      "metadata": {
        "colab": {
          "base_uri": "https://localhost:8080/",
          "height": 279
        },
        "id": "_9bk7tQ2YlYA",
        "outputId": "cb3219f0-6c60-4a39-b4ae-98904a1f442b"
      },
      "source": [
        " \n",
        "from sklearn.metrics import plot_confusion_matrix\n",
        "confusion_matrix1 = plot_confusion_matrix(classifier1, whitewine2_test, y_test1, labels=['low', 'med', \"high\"], values_format = 'd') "
      ],
      "execution_count": 29,
      "outputs": [
        {
          "output_type": "display_data",
          "data": {
            "image/png": "[encoded data removed]",
            "text/plain": [
              "<Figure size 432x288 with 2 Axes>"
            ]
          },
          "metadata": {
            "needs_background": "light"
          }
        }
      ]
    },
    {
      "cell_type": "code",
      "metadata": {
        "colab": {
          "base_uri": "https://localhost:8080/",
          "height": 279
        },
        "id": "-lkARRLceAuN",
        "outputId": "eb7508b8-3191-468e-fe8b-abffa8a450d6"
      },
      "source": [
        "confusion_matrix2 = plot_confusion_matrix(classifier2, redwine2_test, y_test2, labels=['low', 'med', \"high\"], values_format = 'd')"
      ],
      "execution_count": 30,
      "outputs": [
        {
          "output_type": "display_data",
          "data": {
            "image/png": "[encoded data removed]",
            "text/plain": [
              "<Figure size 432x288 with 2 Axes>"
            ]
          },
          "metadata": {
            "needs_background": "light"
          }
        }
      ]
    },
    {
      "cell_type": "code",
      "metadata": {
        "colab": {
          "base_uri": "https://localhost:8080/"
        },
        "id": "E0rllHF0YlYB",
        "outputId": "c46ad13e-0786-41f0-b801-2dd794b810fe"
      },
      "source": [
        "\n",
        "#Get the accuracy, sensitivity, and specifitivity values\n",
        "from sklearn.metrics import confusion_matrix\n",
        "from sklearn import metrics\n",
        "confusion_matrix1 = confusion_matrix(y_test1,y_pred1, labels = ['low', 'med', 'high'])\n",
        "confusion_matrix1"
      ],
      "execution_count": 31,
      "outputs": [
        {
          "output_type": "execute_result",
          "data": {
            "text/plain": [
              "array([[   5,   47,    5],\n",
              "       [  10, 1137,  129],\n",
              "       [   2,  176,  204]])"
            ]
          },
          "metadata": {},
          "execution_count": 31
        }
      ]
    },
    {
      "cell_type": "code",
      "metadata": {
        "colab": {
          "base_uri": "https://localhost:8080/"
        },
        "id": "93qAI3SQelmj",
        "outputId": "e0879f93-3324-4eac-b600-a3afffad2176"
      },
      "source": [
        "confusion_matrix2 = confusion_matrix(y_test2,y_pred2, labels = ['low', 'med', 'high'])\n",
        "confusion_matrix2"
      ],
      "execution_count": 32,
      "outputs": [
        {
          "output_type": "execute_result",
          "data": {
            "text/plain": [
              "array([[  0,  21,   1],\n",
              "       [  0, 431,  27],\n",
              "       [  0,  48,  32]])"
            ]
          },
          "metadata": {},
          "execution_count": 32
        }
      ]
    },
    {
      "cell_type": "code",
      "metadata": {
        "colab": {
          "base_uri": "https://localhost:8080/"
        },
        "id": "-eBp_jUEYlYB",
        "outputId": "d20ebf36-6995-40b0-919f-6b4456f6269d"
      },
      "source": [
        "accuracy1 = metrics.accuracy_score(y_test1, y_pred1)\n",
        "accuracy1"
      ],
      "execution_count": 34,
      "outputs": [
        {
          "output_type": "execute_result",
          "data": {
            "text/plain": [
              "0.7848396501457726"
            ]
          },
          "metadata": {},
          "execution_count": 34
        }
      ]
    },
    {
      "cell_type": "code",
      "metadata": {
        "colab": {
          "base_uri": "https://localhost:8080/"
        },
        "id": "LI6p3t9SexsS",
        "outputId": "5dbfb104-0d09-495b-fd4d-2eb464e0a427"
      },
      "source": [
        "accuracy2 = metrics.accuracy_score(y_test2, y_pred2)\n",
        "accuracy2"
      ],
      "execution_count": 35,
      "outputs": [
        {
          "output_type": "execute_result",
          "data": {
            "text/plain": [
              "0.8267857142857142"
            ]
          },
          "metadata": {},
          "execution_count": 35
        }
      ]
    },
    {
      "cell_type": "code",
      "metadata": {
        "id": "yn19bu0GYlYB"
      },
      "source": [
        "TN_low1 = confusion_matrix1[1,1] + confusion_matrix1[2,2]\n",
        "FP_low1 = confusion_matrix1[1,0] + confusion_matrix1[2,0]\n",
        "TN_med1 = confusion_matrix1[0,0] + confusion_matrix1[2,2]\n",
        "FP_med1 = confusion_matrix1[0,1] + confusion_matrix1[2,1]\n",
        "TN_high1 = confusion_matrix1[0,0] + confusion_matrix1[1,1]\n",
        "FP_high1 = confusion_matrix1[0,2] + confusion_matrix1[1,2]\n",
        "TP_low1 = confusion_matrix1[0,0]\n",
        "FN_low1 = confusion_matrix1[0,1] + confusion_matrix1[0,2]\n",
        "TP_med1 = confusion_matrix1[1,1]\n",
        "FN_med1 = confusion_matrix1[1,0] + confusion_matrix1[1,2]\n",
        "TP_high1 = confusion_matrix1[2,2]\n",
        "FN_high1 = confusion_matrix1[2,0] + confusion_matrix1[2,1]"
      ],
      "execution_count": 36,
      "outputs": []
    },
    {
      "cell_type": "code",
      "metadata": {
        "id": "GcdPu3uCfkRz"
      },
      "source": [
        "TN_low2 = confusion_matrix2[1,1] + confusion_matrix2[2,2]\n",
        "FP_low2 = confusion_matrix2[1,0] + confusion_matrix2[2,0]\n",
        "TN_med2 = confusion_matrix2[0,0] + confusion_matrix2[2,2]\n",
        "FP_med2 = confusion_matrix2[0,1] + confusion_matrix2[2,1]\n",
        "TN_high2 = confusion_matrix2[0,0] + confusion_matrix2[1,1]\n",
        "FP_high2 = confusion_matrix2[0,2] + confusion_matrix2[1,2]\n",
        "TP_low2 = confusion_matrix2[0,0]\n",
        "FN_low2 = confusion_matrix2[0,1] + confusion_matrix2[0,2]\n",
        "TP_med2 = confusion_matrix2[1,1]\n",
        "FN_med2 = confusion_matrix2[1,0] + confusion_matrix2[1,2]\n",
        "TP_high2 = confusion_matrix2[2,2]\n",
        "FN_high2 = confusion_matrix2[2,0] + confusion_matrix2[2,1]"
      ],
      "execution_count": 42,
      "outputs": []
    },
    {
      "cell_type": "code",
      "metadata": {
        "colab": {
          "base_uri": "https://localhost:8080/"
        },
        "id": "gofw6WXdYlYC",
        "outputId": "4bf58e2a-74f0-4169-9110-d22cafc1ec99"
      },
      "source": [
        "specitivity_low1 = TN_low1/(TN_low1+FP_low1)\n",
        "specitivity_low1"
      ],
      "execution_count": 37,
      "outputs": [
        {
          "output_type": "execute_result",
          "data": {
            "text/plain": [
              "0.991130820399113"
            ]
          },
          "metadata": {},
          "execution_count": 37
        }
      ]
    },
    {
      "cell_type": "code",
      "metadata": {
        "colab": {
          "base_uri": "https://localhost:8080/"
        },
        "id": "92ngv7RqgCSs",
        "outputId": "316faf49-6077-4eb7-85ef-4c79e36a8aa2"
      },
      "source": [
        "specitivity_low2 = TN_low2/(TN_low2+FP_low2)\n",
        "specitivity_low2"
      ],
      "execution_count": 48,
      "outputs": [
        {
          "output_type": "execute_result",
          "data": {
            "text/plain": [
              "1.0"
            ]
          },
          "metadata": {},
          "execution_count": 48
        }
      ]
    },
    {
      "cell_type": "code",
      "metadata": {
        "colab": {
          "base_uri": "https://localhost:8080/"
        },
        "id": "TN11pYNIYlYC",
        "outputId": "72082b92-63a3-4cf0-b2ac-1e1eaa4941c2"
      },
      "source": [
        "sensitivity_low1 = TP_low1/(TP_low1+FN_low1)\n",
        "sensitivity_low1"
      ],
      "execution_count": 38,
      "outputs": [
        {
          "output_type": "execute_result",
          "data": {
            "text/plain": [
              "0.08771929824561403"
            ]
          },
          "metadata": {},
          "execution_count": 38
        }
      ]
    },
    {
      "cell_type": "code",
      "metadata": {
        "colab": {
          "base_uri": "https://localhost:8080/"
        },
        "id": "nZlHYc37hAnf",
        "outputId": "f8643213-1efd-4263-be4c-57dfe0cbae75"
      },
      "source": [
        "sensitivity_low2 = TP_low2/(TP_low2+FN_low2)\n",
        "sensitivity_low2"
      ],
      "execution_count": 49,
      "outputs": [
        {
          "output_type": "execute_result",
          "data": {
            "text/plain": [
              "0.0"
            ]
          },
          "metadata": {},
          "execution_count": 49
        }
      ]
    },
    {
      "cell_type": "code",
      "metadata": {
        "colab": {
          "base_uri": "https://localhost:8080/"
        },
        "id": "WnYYE2CKYlYC",
        "outputId": "1a046769-0fd0-4d7e-e1ab-871cd0663786"
      },
      "source": [
        "specitivity_med1 = TN_med1/(TN_med1+FP_med1)\n",
        "specitivity_med1"
      ],
      "execution_count": 39,
      "outputs": [
        {
          "output_type": "execute_result",
          "data": {
            "text/plain": [
              "0.4837962962962963"
            ]
          },
          "metadata": {},
          "execution_count": 39
        }
      ]
    },
    {
      "cell_type": "code",
      "metadata": {
        "colab": {
          "base_uri": "https://localhost:8080/"
        },
        "id": "5Xip91xkhMmT",
        "outputId": "17e7d254-f1e2-48c6-af38-d02bdcc1eee4"
      },
      "source": [
        "specitivity_med2 = TN_med2/(TN_med2+FP_med2)\n",
        "specitivity_med2"
      ],
      "execution_count": 50,
      "outputs": [
        {
          "output_type": "execute_result",
          "data": {
            "text/plain": [
              "0.31683168316831684"
            ]
          },
          "metadata": {},
          "execution_count": 50
        }
      ]
    },
    {
      "cell_type": "code",
      "metadata": {
        "id": "Syen-LgSYlYC",
        "outputId": "96552512-4df4-42df-f5d6-9bbfaf2a74b8"
      },
      "source": [
        "sensitivity_med1 = TP_med1/(TP_med1+FN_med1)\n",
        "sensitivity_med1"
      ],
      "execution_count": null,
      "outputs": [
        {
          "data": {
            "text/plain": [
              "0.8910658307210031"
            ]
          },
          "execution_count": 29,
          "metadata": {},
          "output_type": "execute_result"
        }
      ]
    },
    {
      "cell_type": "code",
      "metadata": {
        "colab": {
          "base_uri": "https://localhost:8080/"
        },
        "id": "yGdwe-9qhRCS",
        "outputId": "0803e5f5-b959-4974-b273-4cedb42400a8"
      },
      "source": [
        "sensitivity_med2 = TP_med2/(TP_med2+FN_med2)\n",
        "sensitivity_med2"
      ],
      "execution_count": 51,
      "outputs": [
        {
          "output_type": "execute_result",
          "data": {
            "text/plain": [
              "0.9410480349344978"
            ]
          },
          "metadata": {},
          "execution_count": 51
        }
      ]
    },
    {
      "cell_type": "code",
      "metadata": {
        "colab": {
          "base_uri": "https://localhost:8080/"
        },
        "id": "Hqw5A0sjYlYC",
        "outputId": "05efab5f-8540-4396-c8b2-06eb4a572ad3"
      },
      "source": [
        "specitivity_high1 = TN_high1/(TN_high1+FP_high1)\n",
        "specitivity_high1"
      ],
      "execution_count": 40,
      "outputs": [
        {
          "output_type": "execute_result",
          "data": {
            "text/plain": [
              "0.8949843260188087"
            ]
          },
          "metadata": {},
          "execution_count": 40
        }
      ]
    },
    {
      "cell_type": "code",
      "metadata": {
        "colab": {
          "base_uri": "https://localhost:8080/"
        },
        "id": "oSnsdZllhWgX",
        "outputId": "80dc4da0-7512-4988-fae2-7f78e4837bff"
      },
      "source": [
        "specitivity_high2 = TN_high2/(TN_high2+FP_high2)\n",
        "specitivity_high2"
      ],
      "execution_count": 52,
      "outputs": [
        {
          "output_type": "execute_result",
          "data": {
            "text/plain": [
              "0.9389978213507625"
            ]
          },
          "metadata": {},
          "execution_count": 52
        }
      ]
    },
    {
      "cell_type": "code",
      "metadata": {
        "colab": {
          "base_uri": "https://localhost:8080/"
        },
        "id": "tlAYCN7EYlYD",
        "outputId": "c6c2e1f3-1186-46a8-aed6-9902affdb924"
      },
      "source": [
        "sensitivity_high1 = TP_high1/(TP_high1+FN_high1)\n",
        "sensitivity_high1"
      ],
      "execution_count": 41,
      "outputs": [
        {
          "output_type": "execute_result",
          "data": {
            "text/plain": [
              "0.5340314136125655"
            ]
          },
          "metadata": {},
          "execution_count": 41
        }
      ]
    },
    {
      "cell_type": "code",
      "metadata": {
        "colab": {
          "base_uri": "https://localhost:8080/"
        },
        "id": "-fqV-7Ubhaxj",
        "outputId": "a1a191be-a795-4c3d-80a6-4bb8c8f2a972"
      },
      "source": [
        "sensitivity_high2 = TP_high2/(TP_high2+FN_high2)\n",
        "sensitivity_high2"
      ],
      "execution_count": 55,
      "outputs": [
        {
          "output_type": "execute_result",
          "data": {
            "text/plain": [
              "0.4"
            ]
          },
          "metadata": {},
          "execution_count": 55
        }
      ]
    }
  ]
}